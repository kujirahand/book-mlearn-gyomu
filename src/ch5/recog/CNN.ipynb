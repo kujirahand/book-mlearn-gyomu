{
 "cells": [
  {
   "cell_type": "code",
   "execution_count": 1,
   "metadata": {},
   "outputs": [
    {
     "name": "stderr",
     "output_type": "stream",
     "text": [
      "Using TensorFlow backend.\n"
     ]
    },
    {
     "name": "stdout",
     "output_type": "stream",
     "text": [
      "Train on 50000 samples, validate on 10000 samples\n",
      "Epoch 1/50\n",
      "50000/50000 [==============================] - 112s 2ms/step - loss: 1.5106 - accuracy: 0.4535 - val_loss: 1.1493 - val_accuracy: 0.5914\n",
      "Epoch 2/50\n",
      "50000/50000 [==============================] - 112s 2ms/step - loss: 1.1172 - accuracy: 0.6062 - val_loss: 0.9306 - val_accuracy: 0.6756\n",
      "Epoch 3/50\n",
      "50000/50000 [==============================] - 114s 2ms/step - loss: 0.9758 - accuracy: 0.6566 - val_loss: 0.8412 - val_accuracy: 0.7152\n",
      "Epoch 4/50\n",
      "50000/50000 [==============================] - 115s 2ms/step - loss: 0.8906 - accuracy: 0.6868 - val_loss: 0.8001 - val_accuracy: 0.7220\n",
      "Epoch 5/50\n",
      "50000/50000 [==============================] - 116s 2ms/step - loss: 0.8287 - accuracy: 0.7106 - val_loss: 0.7661 - val_accuracy: 0.7348\n",
      "Epoch 6/50\n",
      "50000/50000 [==============================] - 117s 2ms/step - loss: 0.7769 - accuracy: 0.7275 - val_loss: 0.7579 - val_accuracy: 0.7339\n",
      "Epoch 7/50\n",
      "50000/50000 [==============================] - 118s 2ms/step - loss: 0.7373 - accuracy: 0.7432 - val_loss: 0.8970 - val_accuracy: 0.6981\n",
      "Epoch 8/50\n",
      "50000/50000 [==============================] - 119s 2ms/step - loss: 0.7051 - accuracy: 0.7525 - val_loss: 0.7331 - val_accuracy: 0.7453\n",
      "Epoch 9/50\n",
      "50000/50000 [==============================] - 120s 2ms/step - loss: 0.6816 - accuracy: 0.7607 - val_loss: 0.6811 - val_accuracy: 0.7644\n",
      "Epoch 10/50\n",
      "50000/50000 [==============================] - 121s 2ms/step - loss: 0.6577 - accuracy: 0.7702 - val_loss: 0.6809 - val_accuracy: 0.7651\n",
      "Epoch 11/50\n",
      "50000/50000 [==============================] - 122s 2ms/step - loss: 0.6359 - accuracy: 0.7763 - val_loss: 0.6727 - val_accuracy: 0.7703\n",
      "Epoch 12/50\n",
      "50000/50000 [==============================] - 123s 2ms/step - loss: 0.6145 - accuracy: 0.7831 - val_loss: 0.6524 - val_accuracy: 0.7796\n",
      "Epoch 13/50\n",
      "50000/50000 [==============================] - 123s 2ms/step - loss: 0.5956 - accuracy: 0.7921 - val_loss: 0.7037 - val_accuracy: 0.7649\n",
      "Epoch 14/50\n",
      "50000/50000 [==============================] - 124s 2ms/step - loss: 0.5808 - accuracy: 0.7955 - val_loss: 0.6589 - val_accuracy: 0.7777\n",
      "Epoch 15/50\n",
      "50000/50000 [==============================] - 125s 2ms/step - loss: 0.5663 - accuracy: 0.8019 - val_loss: 0.6687 - val_accuracy: 0.7760\n",
      "Epoch 16/50\n",
      "50000/50000 [==============================] - 125s 3ms/step - loss: 0.5579 - accuracy: 0.8058 - val_loss: 0.6627 - val_accuracy: 0.7795\n",
      "Epoch 17/50\n",
      "50000/50000 [==============================] - 126s 3ms/step - loss: 0.5401 - accuracy: 0.8104 - val_loss: 0.6580 - val_accuracy: 0.7862\n",
      "Epoch 18/50\n",
      "50000/50000 [==============================] - 125s 3ms/step - loss: 0.5265 - accuracy: 0.8146 - val_loss: 0.6755 - val_accuracy: 0.7790\n",
      "Epoch 19/50\n",
      "50000/50000 [==============================] - 126s 3ms/step - loss: 0.5178 - accuracy: 0.8162 - val_loss: 0.6735 - val_accuracy: 0.7728\n",
      "Epoch 20/50\n",
      "50000/50000 [==============================] - 126s 3ms/step - loss: 0.5061 - accuracy: 0.8205 - val_loss: 0.6916 - val_accuracy: 0.7739\n",
      "Epoch 21/50\n",
      "50000/50000 [==============================] - 125s 3ms/step - loss: 0.5048 - accuracy: 0.8219 - val_loss: 0.6450 - val_accuracy: 0.7871\n",
      "Epoch 22/50\n",
      "50000/50000 [==============================] - 126s 3ms/step - loss: 0.4966 - accuracy: 0.8261 - val_loss: 0.6473 - val_accuracy: 0.7866\n",
      "Epoch 23/50\n",
      "50000/50000 [==============================] - 126s 3ms/step - loss: 0.4841 - accuracy: 0.8288 - val_loss: 0.6900 - val_accuracy: 0.7747\n",
      "Epoch 24/50\n",
      "50000/50000 [==============================] - 126s 3ms/step - loss: 0.4747 - accuracy: 0.8320 - val_loss: 0.6801 - val_accuracy: 0.7863\n",
      "Epoch 25/50\n",
      "50000/50000 [==============================] - 126s 3ms/step - loss: 0.4748 - accuracy: 0.8308 - val_loss: 0.6483 - val_accuracy: 0.7852\n",
      "Epoch 26/50\n",
      "50000/50000 [==============================] - 127s 3ms/step - loss: 0.4602 - accuracy: 0.8376 - val_loss: 0.6469 - val_accuracy: 0.7900\n",
      "Epoch 27/50\n",
      "50000/50000 [==============================] - 127s 3ms/step - loss: 0.4586 - accuracy: 0.8386 - val_loss: 0.7001 - val_accuracy: 0.7793\n",
      "Epoch 28/50\n",
      "50000/50000 [==============================] - 127s 3ms/step - loss: 0.4552 - accuracy: 0.8392 - val_loss: 0.6760 - val_accuracy: 0.7798\n",
      "Epoch 29/50\n",
      "50000/50000 [==============================] - 128s 3ms/step - loss: 0.4470 - accuracy: 0.8442 - val_loss: 0.6545 - val_accuracy: 0.7902\n",
      "Epoch 30/50\n",
      "50000/50000 [==============================] - 128s 3ms/step - loss: 0.4423 - accuracy: 0.8460 - val_loss: 0.6417 - val_accuracy: 0.7925\n",
      "Epoch 31/50\n",
      "50000/50000 [==============================] - 126s 3ms/step - loss: 0.4361 - accuracy: 0.8467 - val_loss: 0.6633 - val_accuracy: 0.7852\n",
      "Epoch 32/50\n",
      "50000/50000 [==============================] - 126s 3ms/step - loss: 0.4359 - accuracy: 0.8475 - val_loss: 0.6823 - val_accuracy: 0.7902\n",
      "Epoch 33/50\n",
      "50000/50000 [==============================] - 126s 3ms/step - loss: 0.4308 - accuracy: 0.8490 - val_loss: 0.6954 - val_accuracy: 0.7864\n",
      "Epoch 34/50\n",
      "50000/50000 [==============================] - 126s 3ms/step - loss: 0.4276 - accuracy: 0.8498 - val_loss: 0.6709 - val_accuracy: 0.7897\n",
      "Epoch 35/50\n",
      "50000/50000 [==============================] - 126s 3ms/step - loss: 0.4192 - accuracy: 0.8531 - val_loss: 0.7087 - val_accuracy: 0.7770\n",
      "Epoch 36/50\n",
      "50000/50000 [==============================] - 125s 3ms/step - loss: 0.4145 - accuracy: 0.8558 - val_loss: 0.6803 - val_accuracy: 0.7838\n",
      "Epoch 37/50\n",
      "50000/50000 [==============================] - 125s 3ms/step - loss: 0.4110 - accuracy: 0.8569 - val_loss: 0.6957 - val_accuracy: 0.7818\n",
      "Epoch 38/50\n",
      "50000/50000 [==============================] - 125s 3ms/step - loss: 0.4160 - accuracy: 0.8551 - val_loss: 0.6931 - val_accuracy: 0.7767\n",
      "Epoch 39/50\n",
      "50000/50000 [==============================] - 126s 3ms/step - loss: 0.4055 - accuracy: 0.8569 - val_loss: 0.6885 - val_accuracy: 0.7804\n",
      "Epoch 40/50\n",
      "50000/50000 [==============================] - 126s 3ms/step - loss: 0.4084 - accuracy: 0.8580 - val_loss: 0.6818 - val_accuracy: 0.7956\n",
      "Epoch 41/50\n",
      "50000/50000 [==============================] - 126s 3ms/step - loss: 0.4088 - accuracy: 0.8567 - val_loss: 0.6697 - val_accuracy: 0.7910\n",
      "Epoch 42/50\n",
      "50000/50000 [==============================] - 126s 3ms/step - loss: 0.3964 - accuracy: 0.8639 - val_loss: 0.6850 - val_accuracy: 0.7856\n",
      "Epoch 43/50\n",
      "50000/50000 [==============================] - 127s 3ms/step - loss: 0.3953 - accuracy: 0.8625 - val_loss: 0.6817 - val_accuracy: 0.7915\n",
      "Epoch 44/50\n",
      "50000/50000 [==============================] - 125s 2ms/step - loss: 0.4012 - accuracy: 0.8624 - val_loss: 0.6746 - val_accuracy: 0.7895\n",
      "Epoch 45/50\n",
      "50000/50000 [==============================] - 125s 3ms/step - loss: 0.3897 - accuracy: 0.8634 - val_loss: 0.6974 - val_accuracy: 0.7875\n",
      "Epoch 46/50\n",
      "50000/50000 [==============================] - 127s 3ms/step - loss: 0.3857 - accuracy: 0.8653 - val_loss: 0.7113 - val_accuracy: 0.7868\n",
      "Epoch 47/50\n",
      "50000/50000 [==============================] - 127s 3ms/step - loss: 0.3857 - accuracy: 0.8659 - val_loss: 0.6708 - val_accuracy: 0.7947\n",
      "Epoch 48/50\n",
      "50000/50000 [==============================] - 128s 3ms/step - loss: 0.3855 - accuracy: 0.8664 - val_loss: 0.6678 - val_accuracy: 0.7971\n",
      "Epoch 49/50\n",
      "50000/50000 [==============================] - 127s 3ms/step - loss: 0.3859 - accuracy: 0.8672 - val_loss: 0.6930 - val_accuracy: 0.7929\n",
      "Epoch 50/50\n",
      "50000/50000 [==============================] - 127s 3ms/step - loss: 0.3788 - accuracy: 0.8702 - val_loss: 0.6749 - val_accuracy: 0.7951\n",
      "10000/10000 [==============================] - 5s 459us/step\n",
      "正解率= 0.7950999736785889 loss= 0.6749115333557129\n"
     ]
    },
    {
     "data": {
      "image/png": "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\n",
      "text/plain": [
       "<Figure size 432x288 with 1 Axes>"
      ]
     },
     "metadata": {
      "needs_background": "light"
     },
     "output_type": "display_data"
    },
    {
     "data": {
      "image/png": "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\n",
      "text/plain": [
       "<Figure size 432x288 with 1 Axes>"
      ]
     },
     "metadata": {
      "needs_background": "light"
     },
     "output_type": "display_data"
    }
   ],
=======
   "execution_count": null,
   "metadata": {},
   "outputs": [],
>>>>>>> f2d660bb5e5fa34bc9fecc2fc378fa09168cf96c
   "source": [
    "import matplotlib.pyplot as plt\n",
    "import keras\n",
    "from keras.datasets import cifar10\n",
    "from keras.models import Sequential\n",
    "from keras.layers import Dense, Dropout, Activation, Flatten\n",
    "from keras.layers import Conv2D, MaxPooling2D\n",
    "\n",
    "num_classes = 10\n",
    "im_rows = 32\n",
    "im_cols = 32\n",
    "in_shape = (im_rows, im_cols, 3)\n",
    "\n",
    "# データを読み込む --- (*1)\n",
    "(X_train, y_train), (X_test, y_test) = cifar10.load_data()\n",
    "\n",
    "# データを正規化 --- (*2)\n",
    "X_train = X_train.astype('float32') / 255\n",
    "X_test = X_test.astype('float32') / 255\n",
    "# ラベルデータをOne-Hot形式に変換\n",
    "y_train = keras.utils.to_categorical(y_train, num_classes)\n",
    "y_test = keras.utils.to_categorical(y_test, num_classes)\n",
    "\n",
    "# モデルを定義 --- (*3)\n",
    "model = Sequential()\n",
    "model.add(Conv2D(32, (3, 3), padding='same',\n",
    "                 input_shape=in_shape))\n",
    "model.add(Activation('relu'))\n",
    "model.add(Conv2D(32, (3, 3)))\n",
    "model.add(Activation('relu'))\n",
    "model.add(MaxPooling2D(pool_size=(2, 2)))\n",
    "model.add(Dropout(0.25))\n",
    "\n",
    "model.add(Conv2D(64, (3, 3), padding='same'))\n",
    "model.add(Activation('relu'))\n",
    "model.add(Conv2D(64, (3, 3)))\n",
    "model.add(Activation('relu'))\n",
    "model.add(MaxPooling2D(pool_size=(2, 2)))\n",
    "model.add(Dropout(0.25))\n",
    "\n",
    "model.add(Flatten())\n",
    "model.add(Dense(512))\n",
    "model.add(Activation('relu'))\n",
    "model.add(Dropout(0.5))\n",
    "model.add(Dense(num_classes))\n",
    "model.add(Activation('softmax'))\n",
    "\n",
    "# モデルをコンパイル --- (*4)\n",
    "model.compile(\n",
    "    loss='categorical_crossentropy',\n",
    "    optimizer='adam',\n",
    "    metrics=['accuracy'])\n",
    "\n",
    "# 学習を実行 --- (*5)\n",
    "hist = model.fit(X_train, y_train,\n",
    "    batch_size=32, epochs=50,\n",
    "    verbose=1,\n",
    "    validation_data=(X_test, y_test))\n",
    "\n",
    "# モデルを評価 --- (*6)\n",
    "score = model.evaluate(X_test, y_test, verbose=1)\n",
    "print('正解率=', score[1], 'loss=', score[0])\n",
    "\n",
    "# 学習の様子をグラフへ描画 --- (*7)\n",
    "plt.plot(hist.history['accuracy'])\n",
    "plt.plot(hist.history['val_accuracy'])\n",
    "plt.title('Accuracy')\n",
    "plt.legend(['train', 'test'], loc='upper left')\n",
    "plt.show()\n",
    "plt.plot(hist.history['loss'])\n",
    "plt.plot(hist.history['val_loss'])\n",
    "plt.title('Loss')\n",
    "plt.legend(['train', 'test'], loc='upper left')\n",
    "plt.show()\n"
   ]
  },
  {
   "cell_type": "code",
   "execution_count": null,
   "metadata": {},
   "outputs": [],
   "source": [
    "model.save_weights('cifar10-cnn-weight.h5')"
   ]
  }
 ],
 "metadata": {
  "kernelspec": {
   "display_name": "Python 3",
   "language": "python",
   "name": "python3"
  },
  "language_info": {
   "codemirror_mode": {
    "name": "ipython",
    "version": 3
   },
   "file_extension": ".py",
   "mimetype": "text/x-python",
   "name": "python",
   "nbconvert_exporter": "python",
   "pygments_lexer": "ipython3",
<<<<<<< HEAD
   "version": "3.7.6"
=======
   "version": "3.7.4"
>>>>>>> f2d660bb5e5fa34bc9fecc2fc378fa09168cf96c
  }
 },
 "nbformat": 4,
 "nbformat_minor": 2
}
